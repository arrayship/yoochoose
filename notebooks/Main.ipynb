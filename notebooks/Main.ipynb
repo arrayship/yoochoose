{
 "cells": [
  {
   "cell_type": "markdown",
   "metadata": {},
   "source": [
    "## Settings"
   ]
  },
  {
   "cell_type": "code",
   "execution_count": 1,
   "metadata": {},
   "outputs": [],
   "source": [
    "%load_ext autoreload\n",
    "%autoreload 2\n",
    "\n",
    "import sys\n",
    "\n",
    "sys.path.append('..')"
   ]
  },
  {
   "cell_type": "markdown",
   "metadata": {},
   "source": [
    "# Main"
   ]
  },
  {
   "cell_type": "code",
   "execution_count": 41,
   "metadata": {},
   "outputs": [],
   "source": [
    "import torch"
   ]
  },
  {
   "cell_type": "markdown",
   "metadata": {},
   "source": [
    "## Load Data"
   ]
  },
  {
   "cell_type": "code",
   "execution_count": 2,
   "metadata": {},
   "outputs": [],
   "source": [
    "import pandas as pd\n",
    "import json\n",
    "import pickle"
   ]
  },
  {
   "cell_type": "code",
   "execution_count": 3,
   "metadata": {},
   "outputs": [
    {
     "data": {
      "text/html": [
       "<div>\n",
       "<style scoped>\n",
       "    .dataframe tbody tr th:only-of-type {\n",
       "        vertical-align: middle;\n",
       "    }\n",
       "\n",
       "    .dataframe tbody tr th {\n",
       "        vertical-align: top;\n",
       "    }\n",
       "\n",
       "    .dataframe thead th {\n",
       "        text-align: right;\n",
       "    }\n",
       "</style>\n",
       "<table border=\"1\" class=\"dataframe\">\n",
       "  <thead>\n",
       "    <tr style=\"text-align: right;\">\n",
       "      <th></th>\n",
       "      <th>sess</th>\n",
       "      <th>ts</th>\n",
       "      <th>item</th>\n",
       "    </tr>\n",
       "  </thead>\n",
       "  <tbody>\n",
       "    <tr>\n",
       "      <td>0</td>\n",
       "      <td>1</td>\n",
       "      <td>2014-04-07T10:51:09.277Z</td>\n",
       "      <td>214536502</td>\n",
       "    </tr>\n",
       "    <tr>\n",
       "      <td>1</td>\n",
       "      <td>1</td>\n",
       "      <td>2014-04-07T10:54:09.868Z</td>\n",
       "      <td>214536500</td>\n",
       "    </tr>\n",
       "    <tr>\n",
       "      <td>2</td>\n",
       "      <td>1</td>\n",
       "      <td>2014-04-07T10:54:46.998Z</td>\n",
       "      <td>214536506</td>\n",
       "    </tr>\n",
       "    <tr>\n",
       "      <td>3</td>\n",
       "      <td>1</td>\n",
       "      <td>2014-04-07T10:57:00.306Z</td>\n",
       "      <td>214577561</td>\n",
       "    </tr>\n",
       "    <tr>\n",
       "      <td>4</td>\n",
       "      <td>2</td>\n",
       "      <td>2014-04-07T13:56:37.614Z</td>\n",
       "      <td>214662742</td>\n",
       "    </tr>\n",
       "  </tbody>\n",
       "</table>\n",
       "</div>"
      ],
      "text/plain": [
       "   sess                        ts       item\n",
       "0     1  2014-04-07T10:51:09.277Z  214536502\n",
       "1     1  2014-04-07T10:54:09.868Z  214536500\n",
       "2     1  2014-04-07T10:54:46.998Z  214536506\n",
       "3     1  2014-04-07T10:57:00.306Z  214577561\n",
       "4     2  2014-04-07T13:56:37.614Z  214662742"
      ]
     },
     "execution_count": 3,
     "metadata": {},
     "output_type": "execute_result"
    }
   ],
   "source": [
    "clicks = pd.read_csv('../data/raw/yoochoose-clicks.dat',\n",
    "        names=['sess', 'ts', 'item', 'cat'],  dtype={'cat': str},\n",
    "        usecols=['sess', 'ts', 'item'], header=None)\n",
    "clicks.head()"
   ]
  },
  {
   "cell_type": "markdown",
   "metadata": {},
   "source": [
    "## Preprocess"
   ]
  },
  {
   "cell_type": "code",
   "execution_count": 4,
   "metadata": {},
   "outputs": [],
   "source": [
    "from datetime import datetime as dt, timedelta as td\n",
    "from collections import defaultdict"
   ]
  },
  {
   "cell_type": "code",
   "execution_count": 5,
   "metadata": {},
   "outputs": [
    {
     "data": {
      "text/html": [
       "<div>\n",
       "<style scoped>\n",
       "    .dataframe tbody tr th:only-of-type {\n",
       "        vertical-align: middle;\n",
       "    }\n",
       "\n",
       "    .dataframe tbody tr th {\n",
       "        vertical-align: top;\n",
       "    }\n",
       "\n",
       "    .dataframe thead th {\n",
       "        text-align: right;\n",
       "    }\n",
       "</style>\n",
       "<table border=\"1\" class=\"dataframe\">\n",
       "  <thead>\n",
       "    <tr style=\"text-align: right;\">\n",
       "      <th></th>\n",
       "      <th>sess</th>\n",
       "      <th>ts</th>\n",
       "      <th>item</th>\n",
       "    </tr>\n",
       "  </thead>\n",
       "  <tbody>\n",
       "    <tr>\n",
       "      <td>0</td>\n",
       "      <td>1</td>\n",
       "      <td>2014-04-07 10:51:09</td>\n",
       "      <td>214536502</td>\n",
       "    </tr>\n",
       "    <tr>\n",
       "      <td>1</td>\n",
       "      <td>1</td>\n",
       "      <td>2014-04-07 10:54:09</td>\n",
       "      <td>214536500</td>\n",
       "    </tr>\n",
       "    <tr>\n",
       "      <td>2</td>\n",
       "      <td>1</td>\n",
       "      <td>2014-04-07 10:54:46</td>\n",
       "      <td>214536506</td>\n",
       "    </tr>\n",
       "    <tr>\n",
       "      <td>3</td>\n",
       "      <td>1</td>\n",
       "      <td>2014-04-07 10:57:00</td>\n",
       "      <td>214577561</td>\n",
       "    </tr>\n",
       "    <tr>\n",
       "      <td>4</td>\n",
       "      <td>2</td>\n",
       "      <td>2014-04-07 13:56:37</td>\n",
       "      <td>214662742</td>\n",
       "    </tr>\n",
       "  </tbody>\n",
       "</table>\n",
       "</div>"
      ],
      "text/plain": [
       "   sess                  ts       item\n",
       "0     1 2014-04-07 10:51:09  214536502\n",
       "1     1 2014-04-07 10:54:09  214536500\n",
       "2     1 2014-04-07 10:54:46  214536506\n",
       "3     1 2014-04-07 10:57:00  214577561\n",
       "4     2 2014-04-07 13:56:37  214662742"
      ]
     },
     "execution_count": 5,
     "metadata": {},
     "output_type": "execute_result"
    }
   ],
   "source": [
    "clicks['ts'] = clicks['ts'].apply(lambda s: dt.strptime(s[:19], '%Y-%m-%dT%H:%M:%S'))\n",
    "clicks.head()"
   ]
  },
  {
   "cell_type": "code",
   "execution_count": 6,
   "metadata": {},
   "outputs": [],
   "source": [
    "splitdate = max(clicks['ts']) - td(1)\n",
    "item_count = clicks['item'].value_counts()"
   ]
  },
  {
   "cell_type": "code",
   "execution_count": 7,
   "metadata": {},
   "outputs": [
    {
     "name": "stdout",
     "output_type": "stream",
     "text": [
      "11299811\r"
     ]
    }
   ],
   "source": [
    "remain_sess = []\n",
    "remain_item = set()\n",
    "for _, group in clicks.groupby('sess', sort=False):\n",
    "    print(group.iat[0, 0], end='\\r')\n",
    "    gi = group['item'].tolist()\n",
    "    n = len(gi)\n",
    "    stop = False\n",
    "    if n > 1:\n",
    "        for item in gi:\n",
    "            if item_count[item] < 5:\n",
    "                stop = True\n",
    "                break\n",
    "    else:\n",
    "        stop = True\n",
    "    if not stop:\n",
    "        remain_sess.append((str(group.iat[0, 0]), group.iat[0, 1], gi))\n",
    "        for item in gi:\n",
    "            remain_item.add(item)"
   ]
  },
  {
   "cell_type": "code",
   "execution_count": 8,
   "metadata": {},
   "outputs": [
    {
     "data": {
      "text/plain": [
       "LabelEncoder()"
      ]
     },
     "execution_count": 8,
     "metadata": {},
     "output_type": "execute_result"
    }
   ],
   "source": [
    "from sklearn.preprocessing import LabelEncoder\n",
    "\n",
    "remain_item = list(remain_item)\n",
    "item_enc = LabelEncoder()\n",
    "item_enc.fit(remain_item)"
   ]
  },
  {
   "cell_type": "code",
   "execution_count": 9,
   "metadata": {},
   "outputs": [
    {
     "name": "stdout",
     "output_type": "stream",
     "text": [
      "11299811\r"
     ]
    }
   ],
   "source": [
    "train_d = defaultdict(list)\n",
    "test_d = defaultdict(list)\n",
    "for sess, ts, items in remain_sess:\n",
    "    print(sess, end='\\r')\n",
    "    items = item_enc.transform(items).tolist()\n",
    "    if ts < splitdate:\n",
    "        for i in range(1, len(items)):\n",
    "            train_d[sess].append((items[: i], items[i]))\n",
    "    else:\n",
    "        for i in range(1, len(items)):\n",
    "            test_d[sess].append((items[: i], items[i]))\n",
    "with open('../data/interim/train.json', 'w') as f:\n",
    "    json.dump(train_d, f)\n",
    "with open('../data/interim/test.json', 'w') as f:\n",
    "    json.dump(test_d, f)"
   ]
  },
  {
   "cell_type": "code",
   "execution_count": 23,
   "metadata": {},
   "outputs": [],
   "source": [
    "from sklearn.preprocessing import OneHotEncoder\n",
    "\n",
    "remain_item = item_enc.transform(remain_item).tolist()\n",
    "item_enc = OneHotEncoder(sparse=False)\n",
    "item_enc.fit([[item] for item in remain_item])\n",
    "with open('../data/interim/onehotencoder.pkl', 'wb') as f:\n",
    "    pickle.dump(item_enc, f)"
   ]
  },
  {
   "cell_type": "markdown",
   "metadata": {},
   "source": [
    "## Prepare Input Data"
   ]
  },
  {
   "cell_type": "code",
   "execution_count": null,
   "metadata": {},
   "outputs": [],
   "source": [
    "# train, validation split"
   ]
  },
  {
   "cell_type": "code",
   "execution_count": 25,
   "metadata": {},
   "outputs": [],
   "source": [
    "with open('../data/interim/train.json', 'r') as f:\n",
    "    train_d = json.load(f)\n",
    "with open('../data/interim/test.json', 'r') as f:\n",
    "    test_d = json.load(f)\n",
    "print(len(train_d), len(test_d))\n",
    "with open('../data/interim/onehotencoder.pkl', 'rb') as f:\n",
    "    item_enc = pickle.load(f)"
   ]
  },
  {
   "cell_type": "code",
   "execution_count": 28,
   "metadata": {},
   "outputs": [],
   "source": [
    "from torch_geometric.data import Data, Dataset, DataLoader"
   ]
  },
  {
   "cell_type": "code",
   "execution_count": 141,
   "metadata": {},
   "outputs": [],
   "source": [
    "class YooChooseDataset(Dataset):\n",
    "    def __init__(self, d):\n",
    "        super(YooChooseDataset, self).__init__()\n",
    "        self.samples = self.add_from_dict(d)\n",
    "        \n",
    "    def add_from_dict(self, d):\n",
    "        samples = []\n",
    "        for dd in d.values():\n",
    "            for data in dd:\n",
    "                samples.append(data)\n",
    "        return samples\n",
    "                \n",
    "    def __len__(self):\n",
    "        return len(self.samples)\n",
    "    \n",
    "    def __getitem__(self, idx): # edge_weight(1-dim; 각 edge당 weight 한개)를 GatedGraphConv에 kwarg로 넣어야됨 여기에도 있어야 할 듯\n",
    "        x_ids, y = self.samples[idx]\n",
    "        x_ids_ = list(set(x_ids))\n",
    "        x_dict = {x_id: i for i, x_id in enumerate(x_ids_)}\n",
    "        x = item_enc.transform([[x_id] for x_id in x_ids_])\n",
    "        edge_dict = defaultdict(lambda: defaultdict(int)) # 얘네를 다 미리 저장해야 할 듯? processing이 한세월이겄네\n",
    "        for i in range(len(x_ids) - 1):\n",
    "            edge_dict[x_dict[x_ids[i]]][x_dict[x_ids[i + 1]]] += 1\n",
    "        edge_index, edge_weights = [], []\n",
    "        for o in edge_dict.keys():\n",
    "            s = sum(edge_dict[o].values())\n",
    "            for d in edge_dict[o].keys():\n",
    "                edge_index.append([o, d])\n",
    "                edge_weights.append(edge_dict[o][d] / s)\n",
    "        x = torch.from_numpy(x)\n",
    "        edge_index = torch.tensor(edge_index, dtype=torch.long).t().contiguous()\n",
    "        edge_weights = torch.tensor(edge_weights)\n",
    "        y = torch.tensor([[y]])\n",
    "        return Data(x, edge_index=edge_index, edge_weights=edge_weights, y=y)"
   ]
  },
  {
   "cell_type": "code",
   "execution_count": 127,
   "metadata": {},
   "outputs": [
    {
     "name": "stdout",
     "output_type": "stream",
     "text": [
      "<class 'numpy.ndarray'>\n",
      "tensor([[0, 1, 1, 1, 4, 5, 3, 3, 2],\n",
      "        [1, 1, 4, 3, 5, 3, 1, 2, 1]])\n",
      "tensor([1.0000, 0.5000, 0.2500, 0.2500, 1.0000, 1.0000, 0.5000, 0.5000, 1.0000])\n",
      "tensor([[37290]])\n"
     ]
    }
   ],
   "source": [
    "print(type(test_dataset[46].x))\n",
    "print(test_dataset[46].edge_index)\n",
    "print(test_dataset[46].edge_weights)\n",
    "print(test_dataset[46].y)"
   ]
  },
  {
   "cell_type": "code",
   "execution_count": 140,
   "metadata": {},
   "outputs": [],
   "source": [
    "test_dataset = YooChooseDataset(test_d)\n",
    "test_loader = DataLoader(test_dataset, batch_size=1)\n",
    "batch = next(iter(test_loader))"
   ]
  },
  {
   "cell_type": "code",
   "execution_count": 136,
   "metadata": {},
   "outputs": [
    {
     "data": {
      "text/plain": [
       "Batch(batch=[1], edge_index=[0], edge_weights=[0], x=[1, 37821], y=[1])"
      ]
     },
     "execution_count": 136,
     "metadata": {},
     "output_type": "execute_result"
    }
   ],
   "source": [
    "batch"
   ]
  },
  {
   "cell_type": "code",
   "execution_count": null,
   "metadata": {},
   "outputs": [],
   "source": [
    "# train_loader, val_loader, test_loader\n",
    "train_loader = DataLoader(train_dataset, batch_size=2048)"
   ]
  },
  {
   "cell_type": "markdown",
   "metadata": {},
   "source": [
    "## Construct Model"
   ]
  },
  {
   "cell_type": "code",
   "execution_count": null,
   "metadata": {},
   "outputs": [],
   "source": [
    "class SRGNN(nn.Module):\n",
    "    def __init__(self, h_dim, n_otp):\n",
    "        "
   ]
  },
  {
   "cell_type": "code",
   "execution_count": null,
   "metadata": {},
   "outputs": [],
   "source": []
  },
  {
   "cell_type": "code",
   "execution_count": null,
   "metadata": {},
   "outputs": [],
   "source": []
  },
  {
   "cell_type": "code",
   "execution_count": null,
   "metadata": {},
   "outputs": [],
   "source": []
  },
  {
   "cell_type": "code",
   "execution_count": null,
   "metadata": {},
   "outputs": [],
   "source": []
  },
  {
   "cell_type": "code",
   "execution_count": null,
   "metadata": {},
   "outputs": [],
   "source": [
    "import csv\n",
    "with open('../data/raw/yoochoose-clicks.dat', 'r') as f:\n",
    "    reader = csv.DictReader(f, delimiter=',')\n",
    "    for i, data in enumerate(reader):\n",
    "        print(data)\n",
    "        if i == 4:\n",
    "            break"
   ]
  },
  {
   "cell_type": "code",
   "execution_count": null,
   "metadata": {},
   "outputs": [],
   "source": []
  },
  {
   "cell_type": "code",
   "execution_count": null,
   "metadata": {},
   "outputs": [],
   "source": []
  },
  {
   "cell_type": "code",
   "execution_count": null,
   "metadata": {},
   "outputs": [],
   "source": []
  },
  {
   "cell_type": "code",
   "execution_count": null,
   "metadata": {},
   "outputs": [],
   "source": []
  },
  {
   "cell_type": "code",
   "execution_count": null,
   "metadata": {},
   "outputs": [],
   "source": [
    "buys.info()"
   ]
  }
 ],
 "metadata": {
  "kernelspec": {
   "display_name": "BaeJR_py36",
   "language": "python",
   "name": "eagle_baejr_py36"
  },
  "language_info": {
   "codemirror_mode": {
    "name": "ipython",
    "version": 3
   },
   "file_extension": ".py",
   "mimetype": "text/x-python",
   "name": "python",
   "nbconvert_exporter": "python",
   "pygments_lexer": "ipython3",
   "version": "3.6.5"
  }
 },
 "nbformat": 4,
 "nbformat_minor": 4
}
