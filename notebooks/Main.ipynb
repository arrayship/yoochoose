{
 "cells": [
  {
   "cell_type": "markdown",
   "metadata": {},
   "source": [
    "## Settings"
   ]
  },
  {
   "cell_type": "code",
   "execution_count": 1,
   "metadata": {},
   "outputs": [],
   "source": [
    "%load_ext autoreload\n",
    "%autoreload 2\n",
    "\n",
    "import sys\n",
    "\n",
    "sys.path.append('..')"
   ]
  },
  {
   "cell_type": "markdown",
   "metadata": {},
   "source": [
    "# Main"
   ]
  },
  {
   "cell_type": "code",
   "execution_count": 2,
   "metadata": {},
   "outputs": [],
   "source": [
    "import json\n",
    "from collections import defaultdict\n",
    "import torch"
   ]
  },
  {
   "cell_type": "markdown",
   "metadata": {},
   "source": [
    "## Load Data"
   ]
  },
  {
   "cell_type": "code",
   "execution_count": null,
   "metadata": {},
   "outputs": [],
   "source": [
    "import pandas as pd"
   ]
  },
  {
   "cell_type": "code",
   "execution_count": null,
   "metadata": {},
   "outputs": [],
   "source": [
    "clicks = pd.read_csv('../data/raw/yoochoose-clicks.dat',\n",
    "        names=['sess', 'ts', 'item', 'cat'],  dtype={'cat': str},\n",
    "        usecols=['sess', 'ts', 'item'], header=None)\n",
    "clicks.head()"
   ]
  },
  {
   "cell_type": "markdown",
   "metadata": {},
   "source": [
    "## Preprocess"
   ]
  },
  {
   "cell_type": "code",
   "execution_count": null,
   "metadata": {},
   "outputs": [],
   "source": [
    "from datetime import datetime as dt, timedelta as td"
   ]
  },
  {
   "cell_type": "code",
   "execution_count": null,
   "metadata": {},
   "outputs": [],
   "source": [
    "clicks['ts'] = clicks['ts'].apply(lambda s: dt.strptime(s[:19], '%Y-%m-%dT%H:%M:%S'))\n",
    "clicks.head()"
   ]
  },
  {
   "cell_type": "code",
   "execution_count": null,
   "metadata": {},
   "outputs": [],
   "source": [
    "splitdate = max(clicks['ts']) - td(1)\n",
    "item_count = clicks['item'].value_counts()"
   ]
  },
  {
   "cell_type": "code",
   "execution_count": null,
   "metadata": {},
   "outputs": [],
   "source": [
    "remain_sess = []\n",
    "remain_item = set()\n",
    "for _, group in clicks.groupby('sess', sort=False):\n",
    "    print(group.iat[0, 0], end='\\r')\n",
    "    gi = group['item'].tolist()\n",
    "    n = len(gi)\n",
    "    stop = False\n",
    "    if n > 1:\n",
    "        for item in gi:\n",
    "            if item_count[item] < 5:\n",
    "                stop = True\n",
    "                break\n",
    "    else:\n",
    "        stop = True\n",
    "    if not stop:\n",
    "        remain_sess.append((str(group.iat[0, 0]), group.iat[0, 1], gi))\n",
    "        for item in gi:\n",
    "            remain_item.add(item)\n",
    "with open('../data/interim/n_items.json', 'w') as f:\n",
    "    json.dump(len(remain_item), f)"
   ]
  },
  {
   "cell_type": "code",
   "execution_count": null,
   "metadata": {},
   "outputs": [],
   "source": [
    "from sklearn.preprocessing import LabelEncoder\n",
    "\n",
    "remain_item = list(remain_item)\n",
    "item_enc = LabelEncoder()\n",
    "item_enc.fit(remain_item)"
   ]
  },
  {
   "cell_type": "code",
   "execution_count": null,
   "metadata": {},
   "outputs": [],
   "source": [
    "train_d = defaultdict(list)\n",
    "test_d = defaultdict(list)\n",
    "for sess, ts, items in remain_sess:\n",
    "    print(sess, end='\\r')\n",
    "    items = item_enc.transform(items).tolist()\n",
    "    if ts < splitdate:\n",
    "        for i in range(1, len(items)):\n",
    "            train_d[sess].append((items[: i], items[i]))\n",
    "    else:\n",
    "        for i in range(1, len(items)):\n",
    "            test_d[sess].append((items[: i], items[i]))\n",
    "with open('../data/interim/train.json', 'w') as f:\n",
    "    json.dump(train_d, f)\n",
    "with open('../data/interim/test.json', 'w') as f:\n",
    "    json.dump(test_d, f)"
   ]
  },
  {
   "cell_type": "markdown",
   "metadata": {},
   "source": [
    "## Prepare Input Data"
   ]
  },
  {
   "cell_type": "code",
   "execution_count": 3,
   "metadata": {},
   "outputs": [],
   "source": [
    "from torch_geometric.data import Data, Dataset, DataLoader"
   ]
  },
  {
   "cell_type": "code",
   "execution_count": 21,
   "metadata": {},
   "outputs": [],
   "source": [
    "class YooChooseDataset(Dataset):\n",
    "    def __init__(self, d):\n",
    "        super(YooChooseDataset, self).__init__()\n",
    "        self.samples = self.add_from_dict(d)\n",
    "        \n",
    "    def add_from_dict(self, d):\n",
    "        samples = []\n",
    "        for dd in d.values():\n",
    "            for data in dd:\n",
    "                samples.append(data)\n",
    "        return samples\n",
    "                \n",
    "    def __len__(self):\n",
    "        return len(self.samples)\n",
    "    \n",
    "    def __getitem__(self, idx):\n",
    "        x_ids, y = self.samples[idx]\n",
    "        x_ids_ = set(x_ids)\n",
    "        x_ids_.remove(x_ids[- 1])\n",
    "        x_ids_ = list(x_ids_) + [x_ids[- 1]]\n",
    "        x_dict = {x_id: i for i, x_id in enumerate(x_ids_)}\n",
    "        x = [[x_id] for x_id in x_ids_]\n",
    "        edge_dict = defaultdict(lambda: defaultdict(int)) # 얘네를 다 미리 저장해야 할 듯? f-b propagation step에 비해 오래 걸리는지 확인해보고 일단\n",
    "        for i in range(len(x_ids) - 1):\n",
    "            edge_dict[x_dict[x_ids[i]]][x_dict[x_ids[i + 1]]] += 1\n",
    "        edge_index, edge_weights = [], []\n",
    "        for o in edge_dict.keys():\n",
    "            s = sum(edge_dict[o].values())\n",
    "            for d in edge_dict[o].keys():\n",
    "                edge_index.append([o, d])\n",
    "                edge_weights.append(edge_dict[o][d] / s)\n",
    "        x = torch.tensor(x, dtype=torch.long)\n",
    "        edge_index = torch.tensor(edge_index, dtype=torch.long).t().contiguous()\n",
    "        edge_weights = torch.tensor(edge_weights)\n",
    "        return Data(x, edge_index=edge_index, edge_weights=edge_weights, y=y)"
   ]
  },
  {
   "cell_type": "code",
   "execution_count": 5,
   "metadata": {},
   "outputs": [
    {
     "name": "stdout",
     "output_type": "stream",
     "text": [
      "# items: 37821\n",
      "# train sessions: 7957313\n",
      "# test sessions: 15270\n"
     ]
    }
   ],
   "source": [
    "with open('../data/interim/n_items.json', 'r') as f:\n",
    "    n_items = json.load(f)\n",
    "with open('../data/interim/train.json', 'r') as f:\n",
    "    train_d = json.load(f)\n",
    "with open('../data/interim/test.json', 'r') as f:\n",
    "    test_d = json.load(f)\n",
    "print('# items: {}\\n# train sessions: {}\\n# test sessions: {}'\n",
    "        .format(n_items, len(train_d), len(test_d)))"
   ]
  },
  {
   "cell_type": "code",
   "execution_count": null,
   "metadata": {},
   "outputs": [],
   "source": [
    "# train, validation split"
   ]
  },
  {
   "cell_type": "code",
   "execution_count": 22,
   "metadata": {},
   "outputs": [],
   "source": [
    "# train_loader, val_loader, test_loader =====================split을 해서 다 만들어놔야혀,\n",
    "test_dataset = YooChooseDataset(test_d)\n",
    "test_loader = DataLoader(test_dataset, batch_size=(2 ** 14), shuffle=True)"
   ]
  },
  {
   "cell_type": "markdown",
   "metadata": {},
   "source": [
    "## Construct Model"
   ]
  },
  {
   "cell_type": "code",
   "execution_count": 23,
   "metadata": {},
   "outputs": [],
   "source": [
    "from torch import nn\n",
    "from torch_geometric.nn import GatedGraphConv\n",
    "\n",
    "class Attention(nn.Module):\n",
    "    def __init__(self, embed_dim):\n",
    "        super(Attention, self).__init__()\n",
    "        self.wq = nn.Linear(embed_dim, embed_dim)\n",
    "        self.wk = nn.Linear(embed_dim, embed_dim)\n",
    "        self.sigmoid = nn.Sigmoid()\n",
    "        self.q = nn.Linear(embed_dim, embed_dim)\n",
    "        self.w = nn.Linear(2 * embed_dim, embed_dim)\n",
    "        \n",
    "    def forward(self, x, batch):\n",
    "        sections = list(torch.bincount(batch).to('cpu').numpy())\n",
    "        x_split = torch.split(x, sections)\n",
    "        q_split = [x_[- 1].view(1, - 1) for x_ in x_split]\n",
    "        q = torch.cat([x_[- 1].view(1, - 1).repeat(x_.shape[0], 1) for x_ in x_split])\n",
    "        q = self.wq(q)\n",
    "        k = self.wk(x)\n",
    "        alpha = self.q(q + k)\n",
    "        ax = alpha * x\n",
    "        ax_split = torch.split(ax, sections)\n",
    "        sg_split = [torch.sum(ax_).view(1, - 1) for ax_ in ax_split]\n",
    "        sh_split = self.w(torch.cat((torch.cat(q_split), torch.cat(sg_split)), 1))\n",
    "        return sh_split\n",
    "    \n",
    "class PredProb(nn.Module):\n",
    "    def __init__(self, )\n",
    "\n",
    "class SRGNN(nn.Module): # 마지막 클릭된 item의 index를 가져와야할 것 같은데 yoochoosedataset에서\n",
    "    def __init__(self, n_items, embed_dim):\n",
    "        super(SRGNN, self).__init__()\n",
    "        self.embedding = nn.Embedding(n_items, embed_dim)\n",
    "        self.gatedgconv = GatedGraphConv(embed_dim, 1)\n",
    "        self.relu = nn.ReLU()\n",
    "        self.attention = Attention(embed_dim)\n",
    "        \n",
    "    def _initialize_weights(self, ):\n",
    "        pass\n",
    "    \n",
    "    def forward(self, data):\n",
    "        x, edge_index, edge_weights, batch =\\\n",
    "                data.x, data.edge_index, data.edge_weights, data.batch\n",
    "        x = self.embedding(x).squeeze()\n",
    "        x = self.gatedgconv(x, edge_index, edge_weight)\n",
    "        x = self.relu(x)\n",
    "        x = self.attention(x, batch)"
   ]
  },
  {
   "cell_type": "code",
   "execution_count": 7,
   "metadata": {},
   "outputs": [],
   "source": [
    "from torch import nn\n",
    "from torch_geometric.nn import GatedGraphConv\n",
    "\n",
    "class Embedding2Score(nn.Module):\n",
    "    def __init__(self, hidden_size):\n",
    "        super(Embedding2Score, self).__init__()\n",
    "        self.hidden_size = hidden_size\n",
    "        self.W_1 = nn.Linear(self.hidden_size, self.hidden_size)\n",
    "        self.W_2 = nn.Linear(self.hidden_size, self.hidden_size)\n",
    "        self.q = nn.Linear(self.hidden_size, 1)\n",
    "        self.W_3 = nn.Linear(2 * self.hidden_size, self.hidden_size)\n",
    "\n",
    "    def forward(self, session_embedding, all_item_embedding, batch):\n",
    "        sections = torch.bincount(batch)\n",
    "        v_i = torch.split(session_embedding, tuple(sections.cpu().numpy()))    # split whole x back into graphs G_i\n",
    "        v_n_repeat = tuple(nodes[-1].view(1, -1).repeat(nodes.shape[0], 1) for nodes in v_i)    # repeat |V|_i times for the last node embedding\n",
    "\n",
    "        # Eq(6)\n",
    "        alpha = self.q(torch.sigmoid(self.W_1(torch.cat(v_n_repeat, dim=0)) + self.W_2(session_embedding)))    # |V|_i * 1\n",
    "        s_g_whole = alpha * session_embedding    # |V|_i * hidden_size\n",
    "        s_g_split = torch.split(s_g_whole, tuple(sections.cpu().numpy()))    # split whole s_g into graphs G_i\n",
    "        s_g = tuple(torch.sum(embeddings, dim=0).view(1, -1) for embeddings in s_g_split)\n",
    "        \n",
    "        # Eq(7)\n",
    "        v_n = tuple(nodes[-1].view(1, -1) for nodes in v_i)\n",
    "        s_h = self.W_3(torch.cat((torch.cat(v_n, dim=0), torch.cat(s_g, dim=0)), dim=1))\n",
    "        \n",
    "        # Eq(8)\n",
    "        z_i_hat = torch.mm(s_h, all_item_embedding.weight.transpose(1, 0))\n",
    "        \n",
    "        return z_i_hat"
   ]
  },
  {
   "cell_type": "code",
   "execution_count": 11,
   "metadata": {},
   "outputs": [
    {
     "data": {
      "text/plain": [
       "tensor([[ 0.2807, -0.1433,  0.1594, -0.5333,  0.3918,  0.5824, -0.0843,  0.2851],\n",
       "        [-0.2402,  0.1186, -0.4569,  0.7095, -0.5262, -0.7287, -0.0643,  0.1135],\n",
       "        [-0.6767, -1.4324, -0.0564,  0.1371,  0.1189, -0.7609, -0.2928,  0.9821],\n",
       "        [ 0.4706, -0.9954,  0.1051,  0.0157,  0.2814,  0.2988,  0.2134, -0.9702],\n",
       "        [ 0.0987,  0.6412, -1.1929,  0.1105,  0.3293,  1.0259,  0.3699,  0.6783],\n",
       "        [ 0.0304,  0.3570, -0.1339,  1.2353,  0.3167,  0.3608, -0.3312, -1.0508]],\n",
       "       grad_fn=<AddBackward0>)"
      ]
     },
     "execution_count": 11,
     "metadata": {},
     "output_type": "execute_result"
    }
   ],
   "source": [
    "eeee = nn.Embedding(n_items, 8)\n",
    "gggg = GatedGraphConv(8, 1)\n",
    "ee2ss = Embedding2Score(8)\n",
    "xxxx = gggg(eeee(test_dataset[46].x).squeeze(), test_dataset[46].edge_index)\n",
    "xxxx"
   ]
  },
  {
   "cell_type": "code",
   "execution_count": 17,
   "metadata": {},
   "outputs": [
    {
     "data": {
      "text/plain": [
       "tensor([[ 1.5191, -1.6180, -2.1014,  ..., -0.5146,  0.8934,  0.5470]],\n",
       "       grad_fn=<MmBackward>)"
      ]
     },
     "execution_count": 17,
     "metadata": {},
     "output_type": "execute_result"
    }
   ],
   "source": [
    "ee2ss(xxxx, eeee, batch=torch.tensor([0, 0, 0, 0, 0, 0]))"
   ]
  },
  {
   "cell_type": "code",
   "execution_count": null,
   "metadata": {},
   "outputs": [],
   "source": [
    "print(test_dataset[46].x)\n",
    "print(test_dataset[46].edge_index)\n",
    "print(test_dataset[46].edge_weights)\n",
    "print(test_dataset[46].y)"
   ]
  },
  {
   "cell_type": "code",
   "execution_count": 39,
   "metadata": {},
   "outputs": [
    {
     "data": {
      "text/plain": [
       "(tensor([1, 2, 3]), tensor([1, 2]), tensor([1, 2, 3, 4]))"
      ]
     },
     "execution_count": 39,
     "metadata": {},
     "output_type": "execute_result"
    }
   ],
   "source": [
    "torch.split(torch.tensor([1, 2, 3, 1, 2, 1, 2, 3, 4]), (3, 2, 4))"
   ]
  },
  {
   "cell_type": "code",
   "execution_count": 40,
   "metadata": {},
   "outputs": [
    {
     "data": {
      "text/plain": [
       "<generator object <genexpr> at 0x7f4ceda780f8>"
      ]
     },
     "execution_count": 40,
     "metadata": {},
     "output_type": "execute_result"
    }
   ],
   "source": [
    "(i for i in range(3))"
   ]
  },
  {
   "cell_type": "code",
   "execution_count": null,
   "metadata": {},
   "outputs": [],
   "source": []
  },
  {
   "cell_type": "code",
   "execution_count": null,
   "metadata": {},
   "outputs": [],
   "source": []
  },
  {
   "cell_type": "code",
   "execution_count": null,
   "metadata": {},
   "outputs": [],
   "source": []
  },
  {
   "cell_type": "code",
   "execution_count": null,
   "metadata": {},
   "outputs": [],
   "source": [
    "\"\"\"\n",
    "from sklearn.preprocessing import OneHotEncoder\n",
    "\n",
    "remain_item = item_enc.transform(remain_item).tolist()\n",
    "item_enc = OneHotEncoder(sparse=False)\n",
    "item_enc.fit([[item] for item in remain_item])\n",
    "with open('../data/interim/onehotencoder.pkl', 'wb') as f:\n",
    "    pickle.dump(item_enc, f)\n",
    "\"\"\""
   ]
  },
  {
   "cell_type": "code",
   "execution_count": null,
   "metadata": {},
   "outputs": [],
   "source": [
    "import csv\n",
    "with open('../data/raw/yoochoose-clicks.dat', 'r') as f:\n",
    "    reader = csv.DictReader(f, delimiter=',')\n",
    "    for i, data in enumerate(reader):\n",
    "        print(data)\n",
    "        if i == 4:\n",
    "            break"
   ]
  },
  {
   "cell_type": "code",
   "execution_count": null,
   "metadata": {},
   "outputs": [],
   "source": []
  },
  {
   "cell_type": "code",
   "execution_count": null,
   "metadata": {},
   "outputs": [],
   "source": []
  },
  {
   "cell_type": "code",
   "execution_count": null,
   "metadata": {},
   "outputs": [],
   "source": []
  },
  {
   "cell_type": "code",
   "execution_count": null,
   "metadata": {},
   "outputs": [],
   "source": []
  },
  {
   "cell_type": "code",
   "execution_count": null,
   "metadata": {},
   "outputs": [],
   "source": [
    "buys.info()"
   ]
  }
 ],
 "metadata": {
  "kernelspec": {
   "display_name": "BaeJR_py36",
   "language": "python",
   "name": "eagle_baejr_py36"
  },
  "language_info": {
   "codemirror_mode": {
    "name": "ipython",
    "version": 3
   },
   "file_extension": ".py",
   "mimetype": "text/x-python",
   "name": "python",
   "nbconvert_exporter": "python",
   "pygments_lexer": "ipython3",
   "version": "3.6.5"
  }
 },
 "nbformat": 4,
 "nbformat_minor": 4
}
